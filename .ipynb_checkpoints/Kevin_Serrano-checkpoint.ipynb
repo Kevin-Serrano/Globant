{
 "cells": [
  {
   "cell_type": "code",
   "execution_count": 29,
   "id": "0e33193b-fe75-43c0-98c2-0fbf693e2371",
   "metadata": {},
   "outputs": [],
   "source": [
    "import pandas as pd\n",
    "\n",
    "# Definir nombres de columnas\n",
    "column_names_hired = [\"id\", \"name\", \"col_datetime\", \"department_id\", \"job_id\"]\n",
    "column_names_departments = [\"id\", \"department\"]\n",
    "column_names_jobs = [\"id\", \"job\"]\n",
    "\n",
    "# Cargar CSV y definir los tipos de datos manualmente\n",
    "employees_df = pd.read_csv(\n",
    "    \"hired_employees.csv\", names=column_names_hired, header=None,\n",
    "    dtype={\"id\": \"Int64\", \"department_id\": \"Int64\", \"job_id\": \"Int64\"}\n",
    ")\n",
    "\n",
    "# Convertir la columna datetime al formato correcto para SQL Server\n",
    "employees_df[\"col_datetime\"] = pd.to_datetime(employees_df[\"col_datetime\"], errors=\"coerce\")\n",
    "\n",
    "# Reemplazar NaN en los IDs por un valor por defecto (ejemplo: 0)\n",
    "employees_df = employees_df.fillna({\"department_id\": 0, \"job_id\": 0})\n",
    "employees_df[\"col_datetime\"] = pd.to_datetime(employees_df[\"col_datetime\"], errors=\"coerce\")\n",
    "employees_df[\"col_datetime\"] = employees_df[\"col_datetime\"].dt.strftime(\"%Y-%m-%d %H:%M:%S\")\n",
    "employees_df.rename(columns={\"name\": \"full_name\"}, inplace=True)\n",
    "\n",
    "\n",
    "\n",
    "\n",
    "departments_df = pd.read_csv(\n",
    "    \"departments.csv\", names=column_names_departments, header=None,\n",
    "    dtype={\"id\": \"Int64\"}\n",
    ")\n",
    "\n",
    "jobs_df = pd.read_csv(\n",
    "    \"jobs.csv\", names=column_names_jobs, header=None,\n",
    "    dtype={\"id\": \"Int64\"}\n",
    ")\n",
    "\n",
    "# Convertir datetime\n",
    "employees_df[\"col_datetime\"] = pd.to_datetime(employees_df[\"col_datetime\"])\n",
    "\n"
   ]
  },
  {
   "cell_type": "markdown",
   "id": "6cce1323-7e35-472f-a106-f5ee996eeb24",
   "metadata": {},
   "source": [
    "#### Conexion a BD"
   ]
  },
  {
   "cell_type": "code",
   "execution_count": 7,
   "id": "f727dacf-e58a-4ea1-979c-5aff5a061b02",
   "metadata": {},
   "outputs": [
    {
     "name": "stdout",
     "output_type": "stream",
     "text": [
      "Conexión exitosa a SQL Server\n"
     ]
    }
   ],
   "source": [
    "import pyodbc\n",
    "\n",
    "server = \"DESKTOP-8B57A0M\"  # Reemplázalo con el nombre correcto de tu servidor\n",
    "database = \"Test\"\n",
    "\n",
    "conn_str = f\"DRIVER={{SQL Server}};SERVER={server};DATABASE={database};Trusted_Connection=yes\"\n",
    "\n",
    "# Conectar\n",
    "conn = pyodbc.connect(conn_str)\n",
    "cursor = conn.cursor()\n",
    "print(\"Conexión exitosa a SQL Server\")\n"
   ]
  },
  {
   "cell_type": "markdown",
   "id": "fa3d4164-82e9-452e-b0da-d4d7ffd98f23",
   "metadata": {},
   "source": [
    "#### Insercion en tablas"
   ]
  },
  {
   "cell_type": "code",
   "execution_count": 33,
   "id": "ffd5d3c1-caa8-41c8-b6ee-4ae5bb826f49",
   "metadata": {},
   "outputs": [
    {
     "name": "stdout",
     "output_type": "stream",
     "text": [
      "Datos insertados exitosamente en SQL Server.\n"
     ]
    }
   ],
   "source": [
    "\n",
    "# Función para verificar si un ID ya existe\n",
    "def id_exists(table, id_value):\n",
    "    cursor.execute(f\"SELECT COUNT(*) FROM dbo.{table} WHERE id = ?\", id_value)\n",
    "    return cursor.fetchone()[0] > 0\n",
    "\n",
    "# Insertar datos en la tabla \"departments\"\n",
    "for _, row in departments_df.iterrows():\n",
    "    if not id_exists(\"departments\", row.id):\n",
    "        cursor.execute(\"INSERT INTO dbo.departments (id, department) VALUES (?, ?)\", row.id, row.department)\n",
    "\n",
    "# Insertar datos en la tabla \"jobs\"\n",
    "for _, row in jobs_df.iterrows():\n",
    "    if not id_exists(\"jobs\", row.id):\n",
    "        cursor.execute(\"INSERT INTO dbo.jobs (id, job) VALUES (?, ?)\", row.id, row.job)\n",
    "\n",
    "# Insertar datos en la tabla \"hired_employees\"\n",
    "for _, row in employees_df.iterrows():\n",
    "    try:\n",
    "        cursor.execute(\n",
    "            \"INSERT INTO dbo.hired_employees (id, full_name, col_datetime, department_id, job_id) VALUES (?, ?, ?, ?, ?)\",\n",
    "            int(row.id),\n",
    "            str(row.full_name).strip() if pd.notna(row.full_name) else \"Desconocido\",  # Usamos full_name\n",
    "            row.col_datetime if pd.notna(row.col_datetime) else None,\n",
    "            int(row.department_id) if pd.notna(row.department_id) else None,\n",
    "            int(row.job_id) if pd.notna(row.job_id) else None\n",
    "        )\n",
    "    except Exception as e:\n",
    "        print(f\"Error al insertar ID {row.id}: {e}\")\n",
    "\n",
    "\n",
    "conn.commit()\n",
    "print(\"Datos insertados exitosamente en SQL Server.\")"
   ]
  },
  {
   "cell_type": "code",
   "execution_count": 111,
   "id": "8ed2f8cf-6b1f-4274-bf4d-0cd2e3cb488e",
   "metadata": {},
   "outputs": [],
   "source": [
    "# Cerrar conexión\n",
    "cursor.close()\n",
    "conn.close()"
   ]
  },
  {
   "cell_type": "markdown",
   "id": "6363caa0-a453-4ac2-900d-d518439da75e",
   "metadata": {},
   "source": [
    "#### Creacion de la api rest"
   ]
  },
  {
   "cell_type": "code",
   "execution_count": 16,
   "id": "5d3dce37-abbf-4e1b-8481-ec9143c165a6",
   "metadata": {},
   "outputs": [
    {
     "name": "stdout",
     "output_type": "stream",
     "text": [
      "API corriendo en http://127.0.0.1:8000 🚀\n"
     ]
    }
   ],
   "source": [
    "import uvicorn\n",
    "import nest_asyncio\n",
    "import threading\n",
    "from fastapi import FastAPI, HTTPException\n",
    "from pydantic import BaseModel\n",
    "from typing import List, Optional\n",
    "import pyodbc\n",
    "import pandas as pd\n",
    "\n",
    "\n",
    "# Aplicar nest_asyncio para que la API corra en Jupyter\n",
    "nest_asyncio.apply()\n",
    "\n",
    "# Configurar conexión con SQL Server\n",
    "server = \"DESKTOP-8B57A0M\"  # Reemplázalo con el nombre de tu servidor\n",
    "database = \"Test\"\n",
    "conn_str = f\"DRIVER={{SQL Server}};SERVER={server};DATABASE={database};Trusted_Connection=yes\"\n",
    "\n",
    "# Crear la API\n",
    "app = FastAPI()\n",
    "\n",
    "# Modelo de datos para validación\n",
    "class Employee(BaseModel):\n",
    "    id: int\n",
    "    name: str\n",
    "    col_datetime: str\n",
    "    department_id: Optional[int] = None\n",
    "    job_id: Optional[int] = None\n",
    "\n",
    "# Función para verificar si un ID ya existe en la base de datos\n",
    "def id_exists(employee_id: int) -> bool:\n",
    "    with pyodbc.connect(conn_str) as conn:\n",
    "        cursor = conn.cursor()\n",
    "        cursor.execute(\"SELECT COUNT(*) FROM dbo.hired_employees WHERE id = ?\", employee_id)\n",
    "        return cursor.fetchone()[0] > 0\n",
    "\n",
    "# Endpoint para insertar empleados\n",
    "@app.post(\"/add_employees/\")\n",
    "def add_employees(employees: List[Employee]):\n",
    "    with pyodbc.connect(conn_str) as conn:\n",
    "        cursor = conn.cursor()\n",
    "        inserted_rows = 0\n",
    "        errors = []\n",
    "\n",
    "        for emp in employees:\n",
    "            try:\n",
    "                formatted_date = pd.to_datetime(emp.col_datetime).strftime(\"%Y-%m-%d %H:%M:%S\")\n",
    "            except Exception:\n",
    "                errors.append(f\"ID {emp.id}: Fecha inválida '{emp.col_datetime}'\")\n",
    "                continue\n",
    "\n",
    "            if id_exists(emp.id):\n",
    "                errors.append(f\"ID {emp.id}: Ya existe en la base de datos\")\n",
    "                continue\n",
    "\n",
    "            try:\n",
    "                cursor.execute(\n",
    "                    \"INSERT INTO dbo.hired_employees (id, name, col_datetime, department_id, job_id) VALUES (?, ?, ?, ?, ?)\",\n",
    "                    emp.id, emp.name, formatted_date, emp.department_id, emp.job_id\n",
    "                )\n",
    "                inserted_rows += 1\n",
    "            except Exception as e:\n",
    "                errors.append(f\"ID {emp.id}: Error al insertar ({e})\")\n",
    "\n",
    "        conn.commit()\n",
    "        return {\"message\": f\"Se insertaron {inserted_rows} empleados.\", \"errors\": errors if errors else \"Sin errores.\"}\n",
    "\n",
    "# Endpoint para obtener todos los empleados\n",
    "@app.get(\"/employees/\")\n",
    "def get_employees():\n",
    "    with pyodbc.connect(conn_str) as conn:\n",
    "        cursor = conn.cursor()\n",
    "        cursor.execute(\"SELECT id, name, col_datetime, department_id, job_id FROM dbo.hired_employees\")\n",
    "        employees = [{\"id\": row[0], \"name\": row[1], \"col_datetime\": row[2], \"department_id\": row[3], \"job_id\": row[4]} for row in cursor.fetchall()]\n",
    "    return {\"employees\": employees}\n",
    "\n",
    "# Iniciar el servidor Uvicorn dentro de Jupyter Notebook\n",
    "#uvicorn.run(app, host=\"127.0.0.1\", port=8000)\n",
    "\n",
    "# Función para ejecutar Uvicorn en un hilo separado\n",
    "def run_api():\n",
    "    uvicorn.run(app, host=\"127.0.0.1\", port=8000)\n",
    "\n",
    "# Iniciar el servidor en un hilo separado\n",
    "api_thread = threading.Thread(target=run_api, daemon=True)\n",
    "api_thread.start()\n",
    "\n",
    "print(\"API corriendo en http://127.0.0.1:8000 🚀\")"
   ]
  },
  {
   "cell_type": "markdown",
   "id": "59ecbe2d-bae0-4863-b154-c0b97837695c",
   "metadata": {},
   "source": [
    "### Probar API"
   ]
  },
  {
   "cell_type": "code",
   "execution_count": 21,
   "id": "93917115-f8ac-46c2-98e9-dc60dc02275a",
   "metadata": {},
   "outputs": [
    {
     "name": "stdout",
     "output_type": "stream",
     "text": [
      "INFO:     127.0.0.1:56365 - \"POST /add_employees/ HTTP/1.1\" 200 OK\n",
      "{'message': 'Se insertaron 2 empleados.', 'errors': 'Sin errores.'}\n"
     ]
    }
   ],
   "source": [
    "import requests\n",
    "\n",
    "data = [\n",
    "    {\n",
    "        \"id\": 5001,\n",
    "        \"name\": \"Kevin Serrano\",\n",
    "        \"col_datetime\": \"2025-03-04 10:30:00\",\n",
    "        \"department_id\": 2,\n",
    "        \"job_id\": 3\n",
    "    },\n",
    "    {\n",
    "        \"id\": 5002,\n",
    "        \"name\": \"Evelin Barriga\",\n",
    "        \"col_datetime\": \"2025-03-04 11:00:00\",\n",
    "        \"department_id\": 1,\n",
    "        \"job_id\": 4\n",
    "    }\n",
    "]\n",
    "\n",
    "response = requests.post(\"http://127.0.0.1:8000/add_employees/\", json=data)\n",
    "print(response.json())\n"
   ]
  },
  {
   "cell_type": "code",
   "execution_count": null,
   "id": "e6387964-8100-4b76-b214-cdd963d33969",
   "metadata": {},
   "outputs": [],
   "source": [
    "response = requests.get(\"http://127.0.0.1:8000/employees/\")\n",
    "print(response.json())\n"
   ]
  },
  {
   "cell_type": "code",
   "execution_count": null,
   "id": "20ec048d-be2e-4dc7-b6ce-934b1b8f1c0a",
   "metadata": {},
   "outputs": [],
   "source": []
  }
 ],
 "metadata": {
  "kernelspec": {
   "display_name": "Python [conda env:base] *",
   "language": "python",
   "name": "conda-base-py"
  },
  "language_info": {
   "codemirror_mode": {
    "name": "ipython",
    "version": 3
   },
   "file_extension": ".py",
   "mimetype": "text/x-python",
   "name": "python",
   "nbconvert_exporter": "python",
   "pygments_lexer": "ipython3",
   "version": "3.12.7"
  }
 },
 "nbformat": 4,
 "nbformat_minor": 5
}
